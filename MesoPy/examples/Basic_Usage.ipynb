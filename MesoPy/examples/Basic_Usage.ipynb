{
 "cells": [
  {
   "cell_type": "markdown",
   "metadata": {},
   "source": [
    "##Using MesoPy to retrieve observations"
   ]
  },
  {
   "cell_type": "markdown",
   "metadata": {},
   "source": [
    "This notebook demonstrates some basic functions of the MesoPy package. Here we'll provide a brief intro to each function and demonstrate how to obtain data from the dictionaries that are returned.\n",
    "\n",
    "**External libraries used:**\n",
    "+ MesoPy"
   ]
  },
  {
   "cell_type": "markdown",
   "metadata": {},
   "source": [
    "###Example"
   ]
  },
  {
   "cell_type": "markdown",
   "metadata": {},
   "source": [
    "First we'll import the Meso object from MesoPy and pass in an API token to create an instance to talk to the MesoWest servers."
   ]
  },
  {
   "cell_type": "code",
   "execution_count": 5,
   "metadata": {},
   "outputs": [],
   "source": [
    "from MesoPy import Meso\n",
    "\n",
    "# Instance a Meso object by passing in YOUR api_token\n",
    "m = Meso(api_token='3428e1e281164762870915d2ae6781b4')"
   ]
  },
  {
   "cell_type": "markdown",
   "metadata": {},
   "source": [
    "Now we should get the latest observation data for Boulder within 30 minutes of now "
   ]
  },
  {
   "cell_type": "code",
   "execution_count": 6,
   "metadata": {},
   "outputs": [
    {
     "data": {
      "text/plain": [
       "{'STATION': [{'ELEVATION': '5288',\n",
       "   'ID': '31841',\n",
       "   'LATITUDE': '40.0394297',\n",
       "   'LONGITUDE': '-105.2258217',\n",
       "   'MNET_ID': '1',\n",
       "   'NAME': 'Boulder Municipal Airport',\n",
       "   'OBSERVATIONS': {'air_temp_value_1': {'date_time': '2015-07-10T15:19:00Z',\n",
       "     'value': '69.8'},\n",
       "    'altimeter_value_1': {'date_time': '2015-07-10T15:19:00Z',\n",
       "     'value': '36.24'},\n",
       "    'cloud_layer_1_code_value_1': {'date_time': '2015-07-10T15:19:00Z',\n",
       "     'value': '1101'},\n",
       "    'dew_point_temperature_value_1': {'date_time': '2015-07-10T15:19:00Z',\n",
       "     'value': '51.8'},\n",
       "    'relative_humidity_value_1': {'date_time': '2015-07-10T15:19:00Z',\n",
       "     'value': '52.83'},\n",
       "    'visibility_value_1': {'date_time': '2015-07-10T15:19:00Z', 'value': '10'},\n",
       "    'wind_direction_value_1': {'date_time': '2015-07-10T15:19:00Z',\n",
       "     'value': '0'},\n",
       "    'wind_speed_value_1': {'date_time': '2015-07-10T15:19:00Z',\n",
       "     'value': '0.0'}},\n",
       "   'SENSOR_VARIABLES': {'air_temp': {'air_temp_value_1': {'position': '2'}},\n",
       "    'altimeter': {'altimeter_value_1': {'position': '2'}},\n",
       "    'cloud_layer_1_code': {'cloud_layer_1_code_value_1': {'position': '1'}},\n",
       "    'dew_point_temperature': {'dew_point_temperature_value_1': {}},\n",
       "    'relative_humidity': {'relative_humidity_value_1': {'position': '2'}},\n",
       "    'visibility': {'visibility_value_1': {'position': '3'}},\n",
       "    'wind_direction': {'wind_direction_value_1': {'position': '10'}},\n",
       "    'wind_speed': {'wind_speed_value_1': {'position': '10'}}},\n",
       "   'STATE': 'CO',\n",
       "   'STATUS': 'ACTIVE',\n",
       "   'STID': 'KBDU',\n",
       "   'TIMEZONE': 'US/Mountain'}],\n",
       " 'SUMMARY': {'DATA_PARSING_TIME': '0.654220581055 ms',\n",
       "  'DATA_QUERY_TIME': '0.589080095291 ms',\n",
       "  'METADATA_RESPONSE_TIME': '526.304006577 ms',\n",
       "  'MINUTES_SINCE_MOST_RECENT_OBSERVATION': 1.0839086016019186,\n",
       "  'MOST_RECENT_OBSERVATION': '2015-07-10T15:33Z',\n",
       "  'NUMBER_OF_OBJECTS': 1,\n",
       "  'RESPONSE_CODE': 1,\n",
       "  'RESPONSE_MESSAGE': 'OK',\n",
       "  'TOTAL_DATA_TIME': '589.741945267 ms',\n",
       "  'TOTAL_TIME': '2523.75006676 ms'},\n",
       " 'UNITS': {'air_temp': 'Fahrenheit',\n",
       "  'altimeter': 'inches Hg',\n",
       "  'cloud_layer_1_code': 'code',\n",
       "  'dew_point_temperature': 'Fahrenheit',\n",
       "  'relative_humidity': '%',\n",
       "  'visibility': 'Statute miles',\n",
       "  'wind_direction': 'Degrees',\n",
       "  'wind_speed': 'knots'}}"
      ]
     },
     "execution_count": 6,
     "output_type": "execute_result",
     "metadata": {}
    }
   ],
   "source": [
    "# Fetches the latest obs for Boulder airport within 30 min of now\n",
    "latest = m.latest_obs(stid='kbdu', within='30', units='ENGLISH')\n",
    "latest"
   ]
  },
  {
   "cell_type": "markdown",
   "metadata": {},
   "source": [
    "This returns a wealth of information about the station including the observations we requested. Since the returned data is a dictionary containing several lists, we can 'drill down' into the data and get the info we need."
   ]
  },
  {
   "cell_type": "code",
   "execution_count": 7,
   "metadata": {},
   "outputs": [
    {
     "data": {
      "text/plain": [
       "'The current weather at Boulder Municipal Airport is 69.8°F with a sustained wind of 0.0 mph'"
      ]
     },
     "execution_count": 7,
     "output_type": "execute_result",
     "metadata": {}
    }
   ],
   "source": [
    "ob = latest['STATION'][0]\n",
    "st_name = ob['NAME']\n",
    "temp = str(ob['OBSERVATIONS']['air_temp_value_1']['value']) + u'\\N{DEGREE SIGN}' + 'F'\n",
    "wind = ob['OBSERVATIONS']['wind_speed_value_1']['value'] + ' mph'\n",
    "\n",
    "result = 'The current weather at ' + st_name + ' is ' + temp + ' with a sustained wind of ' + wind\n",
    "result"
   ]
  },
  {
   "cell_type": "markdown",
   "metadata": {},
   "source": [
    "###Other Functions\n",
    "For a complete list of parameters for each function, consult the latest documentation."
   ]
  },
  {
   "cell_type": "markdown",
   "metadata": {},
   "source": [
    "You can retrieve information about certain stations or search for stations based on state, county, etc."
   ]
  },
  {
   "cell_type": "code",
   "execution_count": 8,
   "metadata": {},
   "outputs": [],
   "source": [
    "# Here we retrieve only the stations in Larimer County, Colorado\n",
    "stations = m.station_list(state='CO', county='Larimer')\n",
    "#stations  # uncomment to print the resulting stations"
   ]
  },
  {
   "cell_type": "markdown",
   "metadata": {},
   "source": [
    "You can retrieve the possible sensor variables available for the stations"
   ]
  },
  {
   "cell_type": "code",
   "execution_count": 9,
   "metadata": {},
   "outputs": [],
   "source": [
    "# Calling variable_list() returns all possible sensor variables at stations\n",
    "variables = m.variable_list()\n",
    "#variables  # uncomment to print the resulting variables"
   ]
  },
  {
   "cell_type": "markdown",
   "metadata": {},
   "source": [
    "Climate observations are easy to obtain using the climatology_obs() function. "
   ]
  },
  {
   "cell_type": "code",
   "execution_count": 10,
   "metadata": {},
   "outputs": [],
   "source": [
    "# This returns a climatology for Denver from Apr 26 OOz to Apr 27 OOz\n",
    "climate = m.climatology_obs(stid='kden', startclim='04260000', endclim='04270000', units='precip|in')\n",
    "#climate  # uncomment to print climate observations"
   ]
  },
  {
   "cell_type": "markdown",
   "metadata": {},
   "source": [
    "The latest observations for a station or list of stations can be retrieved by either specifying an exact time or within a certain time range of the current time.\n"
   ]
  },
  {
   "cell_type": "code",
   "execution_count": 11,
   "metadata": {},
   "outputs": [],
   "source": [
    "# Fetches the latest obs for Fort Collins airport within 30 min of Apr 26 18z\n",
    "latest = m.latest_obs(stid='kfnl', attime='201504261800', within='30')\n",
    "#latest  # uncomment to print the latest obs"
   ]
  },
  {
   "cell_type": "markdown",
   "metadata": {},
   "source": [
    "Time series observations must include the start and end parameter."
   ]
  },
  {
   "cell_type": "code",
   "execution_count": 13,
   "metadata": {},
   "outputs": [],
   "source": [
    "# Returns a time series from Fort Collins airport from Apr 26 18z to Apr 26 23z\n",
    "time = m.timeseries_obs(stid='kfnl', start='201504261800', end='201504262300')\n",
    "#time  # uncomment to obtain a time series of observations"
   ]
  },
  {
   "cell_type": "markdown",
   "metadata": {},
   "source": [
    "Lastly, precipitation measurement observations can be retrieved specifically. "
   ]
  },
  {
   "cell_type": "code",
   "execution_count": 14,
   "metadata": {},
   "outputs": [],
   "source": [
    "# Returns the precip obs from Fort Collins airport from Apr 26 18z to Apr 27 12z\n",
    "precip = m.precipitation_obs(stid='kfnl', start='201504261800', end='201504271200', units='precip|in')\n",
    "#precip  # uncomment to get the precipitation obs"
   ]
  }
 ],
 "metadata": {
  "kernelspec": {
   "display_name": "Python 3",
   "language": "python",
   "name": "python3"
  },
  "language_info": {
   "codemirror_mode": {
    "name": "ipython",
    "version": 3.0
   },
   "file_extension": ".py",
   "mimetype": "text/x-python",
   "name": "python",
   "nbconvert_exporter": "python",
   "pygments_lexer": "ipython3",
   "version": "3.4.3"
  }
 },
 "nbformat": 4,
 "nbformat_minor": 0
}