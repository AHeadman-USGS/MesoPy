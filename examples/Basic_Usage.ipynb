{
 "cells": [
  {
   "cell_type": "markdown",
   "metadata": {},
   "source": [
    "##Using MesoPy to retrieve observations"
   ]
  },
  {
   "cell_type": "markdown",
   "metadata": {},
   "source": [
    "This notebook demonstrates some basic functions of the MesoPy package. Here we'll provide a brief intro to each function and demonstrate how to obtain data from the dictionaries that are returned.\n",
    "\n",
    "**External libraries used:**\n",
    "+ MesoPy"
   ]
  },
  {
   "cell_type": "markdown",
   "metadata": {},
   "source": [
    "###Example"
   ]
  },
  {
   "cell_type": "markdown",
   "metadata": {},
   "source": [
    "First we'll import the Meso object from MesoPy and pass in an API token to create an instance to talk to the MesoWest servers."
   ]
  },
  {
   "cell_type": "code",
   "execution_count": 1,
   "metadata": {},
   "outputs": [],
   "source": [
    "from MesoPy import Meso\n",
    "\n",
    "# Instance a Meso object by passing in YOUR api_token\n",
    "m = Meso(token='demotoken')"
   ]
  },
  {
   "cell_type": "markdown",
   "metadata": {},
   "source": [
    "Now we should get the latest observation data for Boulder within 30 minutes of now "
   ]
  },
  {
   "cell_type": "code",
   "execution_count": 4,
   "metadata": {},
   "outputs": [
    {
     "name": "stdout",
     "output_type": "stream",
     "text": [
      "{\n",
      "    \"STATION\": [\n",
      "        {\n",
      "            \"ELEVATION\": \"5288\",\n",
      "            \"ID\": \"31841\",\n",
      "            \"LATITUDE\": \"40.0394297\",\n",
      "            \"LONGITUDE\": \"-105.2258217\",\n",
      "            \"MNET_ID\": \"1\",\n",
      "            \"NAME\": \"Boulder Municipal Airport\",\n",
      "            \"OBSERVATIONS\": {\n",
      "                \"air_temp_value_1\": {\n",
      "                    \"date_time\": \"2016-01-08T05:56:00Z\",\n",
      "                    \"value\": 32.0\n",
      "                },\n",
      "                \"altimeter_value_1\": {\n",
      "                    \"date_time\": \"2016-01-08T05:56:00Z\",\n",
      "                    \"value\": 35.89\n",
      "                },\n",
      "                \"ceiling_value_1\": {\n",
      "                    \"date_time\": \"2016-01-08T05:56:00Z\",\n",
      "                    \"value\": 400.0\n",
      "                },\n",
      "                \"cloud_layer_1_code_value_1\": {\n",
      "                    \"date_time\": \"2016-01-08T05:56:00Z\",\n",
      "                    \"value\": 44.0\n",
      "                },\n",
      "                \"dew_point_temperature_value_1\": {\n",
      "                    \"date_time\": \"2016-01-08T05:56:00Z\",\n",
      "                    \"value\": 32.0\n",
      "                },\n",
      "                \"relative_humidity_value_1\": {\n",
      "                    \"date_time\": \"2016-01-08T05:56:00Z\",\n",
      "                    \"value\": 100.0\n",
      "                },\n",
      "                \"visibility_value_1\": {\n",
      "                    \"date_time\": \"2016-01-08T05:56:00Z\",\n",
      "                    \"value\": 2.0\n",
      "                },\n",
      "                \"weather_cond_code_value_1\": {\n",
      "                    \"date_time\": \"2016-01-08T05:56:00Z\",\n",
      "                    \"value\": 41.0\n",
      "                },\n",
      "                \"wind_direction_value_1\": {\n",
      "                    \"date_time\": \"2016-01-08T05:56:00Z\",\n",
      "                    \"value\": 0.0\n",
      "                },\n",
      "                \"wind_speed_value_1\": {\n",
      "                    \"date_time\": \"2016-01-08T05:56:00Z\",\n",
      "                    \"value\": 0.0\n",
      "                }\n",
      "            },\n",
      "            \"PERIOD_OF_RECORD\": {\n",
      "                \"end\": \"2016-01-08T05:56:00Z\",\n",
      "                \"start\": \"2011-10-27T00:00:00Z\"\n",
      "            },\n",
      "            \"SENSOR_VARIABLES\": {\n",
      "                \"air_temp\": {\n",
      "                    \"air_temp_value_1\": {\n",
      "                        \"period_of_record\": {\n",
      "                            \"end\": \"2016-01-08T05:56:00Z\",\n",
      "                            \"start\": \"2011-10-27T00:00:00Z\"\n",
      "                        },\n",
      "                        \"position\": \"2\"\n",
      "                    }\n",
      "                },\n",
      "                \"altimeter\": {\n",
      "                    \"altimeter_value_1\": {\n",
      "                        \"period_of_record\": {\n",
      "                            \"end\": \"2016-01-08T05:56:00Z\",\n",
      "                            \"start\": \"2011-10-27T00:00:00Z\"\n",
      "                        },\n",
      "                        \"position\": \"2\"\n",
      "                    }\n",
      "                },\n",
      "                \"ceiling\": {\n",
      "                    \"ceiling_value_1\": {\n",
      "                        \"period_of_record\": {\n",
      "                            \"end\": \"2016-01-08T05:56:00Z\",\n",
      "                            \"start\": \"2011-10-27T00:00:00Z\"\n",
      "                        },\n",
      "                        \"position\": \"1\"\n",
      "                    }\n",
      "                },\n",
      "                \"cloud_layer_1_code\": {\n",
      "                    \"cloud_layer_1_code_value_1\": {\n",
      "                        \"period_of_record\": {\n",
      "                            \"end\": \"2016-01-08T05:56:00Z\",\n",
      "                            \"start\": \"2011-10-27T00:00:00Z\"\n",
      "                        },\n",
      "                        \"position\": \"1\"\n",
      "                    }\n",
      "                },\n",
      "                \"dew_point_temperature\": {\n",
      "                    \"dew_point_temperature_value_1\": {}\n",
      "                },\n",
      "                \"relative_humidity\": {\n",
      "                    \"relative_humidity_value_1\": {\n",
      "                        \"period_of_record\": {\n",
      "                            \"end\": \"2016-01-08T05:56:00Z\",\n",
      "                            \"start\": \"2011-10-27T00:00:00Z\"\n",
      "                        },\n",
      "                        \"position\": \"2\"\n",
      "                    }\n",
      "                },\n",
      "                \"visibility\": {\n",
      "                    \"visibility_value_1\": {\n",
      "                        \"period_of_record\": {\n",
      "                            \"end\": \"2016-01-08T05:56:00Z\",\n",
      "                            \"start\": \"2011-10-27T00:00:00Z\"\n",
      "                        },\n",
      "                        \"position\": \"3\"\n",
      "                    }\n",
      "                },\n",
      "                \"weather_cond_code\": {\n",
      "                    \"weather_cond_code_value_1\": {\n",
      "                        \"period_of_record\": {\n",
      "                            \"end\": \"2016-01-08T05:56:00Z\",\n",
      "                            \"start\": \"2011-10-27T00:00:00Z\"\n",
      "                        },\n",
      "                        \"position\": \"3\"\n",
      "                    }\n",
      "                },\n",
      "                \"wind_direction\": {\n",
      "                    \"wind_direction_value_1\": {\n",
      "                        \"period_of_record\": {\n",
      "                            \"end\": \"2016-01-08T05:56:00Z\",\n",
      "                            \"start\": \"2011-10-27T00:00:00Z\"\n",
      "                        },\n",
      "                        \"position\": \"10\"\n",
      "                    }\n",
      "                },\n",
      "                \"wind_speed\": {\n",
      "                    \"wind_speed_value_1\": {\n",
      "                        \"period_of_record\": {\n",
      "                            \"end\": \"2016-01-08T05:56:00Z\",\n",
      "                            \"start\": \"2011-10-27T00:00:00Z\"\n",
      "                        },\n",
      "                        \"position\": \"10\"\n",
      "                    }\n",
      "                }\n",
      "            },\n",
      "            \"STATE\": \"CO\",\n",
      "            \"STATUS\": \"ACTIVE\",\n",
      "            \"STID\": \"KBDU\",\n",
      "            \"TIMEZONE\": \"America/Denver\"\n",
      "        }\n",
      "    ],\n",
      "    \"SUMMARY\": {\n",
      "        \"DATA_PARSING_TIME\": \"1.43980979919 ms\",\n",
      "        \"DATA_QUERY_TIME\": \"28.2459259033 ms\",\n",
      "        \"METADATA_RESPONSE_TIME\": \"1.76501274109 ms\",\n",
      "        \"NUMBER_OF_OBJECTS\": 1,\n",
      "        \"RESPONSE_CODE\": 1,\n",
      "        \"RESPONSE_MESSAGE\": \"OK\",\n",
      "        \"TOTAL_DATA_TIME\": \"29.6909809113 ms\",\n",
      "        \"TOTAL_TIME\": \"132.863998413 ms\"\n",
      "    },\n",
      "    \"UNITS\": {\n",
      "        \"air_temp\": \"Fahrenheit\",\n",
      "        \"altimeter\": \"Pascals\",\n",
      "        \"ceiling\": \"Feet\",\n",
      "        \"cloud_layer_1_code\": \"code\",\n",
      "        \"dew_point_temperature\": \"Fahrenheit\",\n",
      "        \"relative_humidity\": \"%\",\n",
      "        \"visibility\": \"Statute miles\",\n",
      "        \"weather_cond_code\": \"code\",\n",
      "        \"wind_direction\": \"Degrees\",\n",
      "        \"wind_speed\": \"knots\"\n",
      "    }\n",
      "}\n"
     ]
    }
   ],
   "source": [
    "# Fetches the latest obs for Boulder airport within 30 min of now\n",
    "latest = m.latest(stid='kbdu', within='30', units='ENGLISH')\n",
    "latest"
   ]
  },
  {
   "cell_type": "markdown",
   "metadata": {},
   "source": [
    "This returns a wealth of information about the station including the observations we requested. Since the returned data is a dictionary containing several lists, we can 'drill down' into the data and get the info we need."
   ]
  },
  {
   "cell_type": "code",
   "execution_count": 3,
   "metadata": {},
   "outputs": [
    {
     "ename": "TypeError",
     "evalue": "string indices must be integers",
     "output_type": "error",
     "traceback": [
      "\u001b[0;31m---------------------------------------------------------------------------\u001b[0m",
      "\u001b[0;31mTypeError\u001b[0m                                 Traceback (most recent call last)",
      "\u001b[0;32m<ipython-input-3-232e7c938a42>\u001b[0m in \u001b[0;36m<module>\u001b[0;34m()\u001b[0m\n\u001b[0;32m----> 1\u001b[0;31m \u001b[0mob\u001b[0m \u001b[0;34m=\u001b[0m \u001b[0mlatest\u001b[0m\u001b[0;34m[\u001b[0m\u001b[0;34m'STATION'\u001b[0m\u001b[0;34m]\u001b[0m\u001b[0;34m[\u001b[0m\u001b[0;36m0\u001b[0m\u001b[0;34m]\u001b[0m\u001b[0;34m\u001b[0m\u001b[0m\n\u001b[0m\u001b[1;32m      2\u001b[0m \u001b[0mst_name\u001b[0m \u001b[0;34m=\u001b[0m \u001b[0mob\u001b[0m\u001b[0;34m[\u001b[0m\u001b[0;34m'NAME'\u001b[0m\u001b[0;34m]\u001b[0m\u001b[0;34m\u001b[0m\u001b[0m\n\u001b[1;32m      3\u001b[0m \u001b[0mtemp\u001b[0m \u001b[0;34m=\u001b[0m \u001b[0mstr\u001b[0m\u001b[0;34m(\u001b[0m\u001b[0mob\u001b[0m\u001b[0;34m[\u001b[0m\u001b[0;34m'OBSERVATIONS'\u001b[0m\u001b[0;34m]\u001b[0m\u001b[0;34m[\u001b[0m\u001b[0;34m'air_temp_value_1'\u001b[0m\u001b[0;34m]\u001b[0m\u001b[0;34m[\u001b[0m\u001b[0;34m'value'\u001b[0m\u001b[0;34m]\u001b[0m\u001b[0;34m)\u001b[0m \u001b[0;34m+\u001b[0m \u001b[0;34mu'\\N{DEGREE SIGN}'\u001b[0m \u001b[0;34m+\u001b[0m \u001b[0;34m'F'\u001b[0m\u001b[0;34m\u001b[0m\u001b[0m\n\u001b[1;32m      4\u001b[0m \u001b[0mwind\u001b[0m \u001b[0;34m=\u001b[0m \u001b[0mstr\u001b[0m\u001b[0;34m(\u001b[0m\u001b[0mob\u001b[0m\u001b[0;34m[\u001b[0m\u001b[0;34m'OBSERVATIONS'\u001b[0m\u001b[0;34m]\u001b[0m\u001b[0;34m[\u001b[0m\u001b[0;34m'wind_speed_value_1'\u001b[0m\u001b[0;34m]\u001b[0m\u001b[0;34m[\u001b[0m\u001b[0;34m'value'\u001b[0m\u001b[0;34m]\u001b[0m\u001b[0;34m)\u001b[0m \u001b[0;34m+\u001b[0m \u001b[0;34m' mph'\u001b[0m\u001b[0;34m\u001b[0m\u001b[0m\n\u001b[1;32m      5\u001b[0m \u001b[0;34m\u001b[0m\u001b[0m\n",
      "\u001b[0;31mTypeError\u001b[0m: string indices must be integers"
     ]
    }
   ],
   "source": [
    "ob = latest['STATION'][0]\n",
    "st_name = ob['NAME']\n",
    "temp = str(ob['OBSERVATIONS']['air_temp_value_1']['value']) + u'\\N{DEGREE SIGN}' + 'F'\n",
    "wind = str(ob['OBSERVATIONS']['wind_speed_value_1']['value']) + ' mph'\n",
    "\n",
    "result = 'The current weather at ' + st_name + ' is ' + temp + ' with a sustained wind of ' + wind\n",
    "result"
   ]
  },
  {
   "cell_type": "markdown",
   "metadata": {},
   "source": [
    "###Other Functions\n",
    "For a complete list of parameters for each function, consult the latest documentation."
   ]
  },
  {
   "cell_type": "markdown",
   "metadata": {},
   "source": [
    "You can retrieve information about certain stations or search for stations based on state, county, etc."
   ]
  },
  {
   "cell_type": "code",
   "execution_count": null,
   "metadata": {},
   "outputs": [],
   "source": [
    "# Here we retrieve only the stations in Larimer County, Colorado\n",
    "stations = m.metadata(state='CO', county='Larimer')\n",
    "#stations  # uncomment to print the resulting stations"
   ]
  },
  {
   "cell_type": "markdown",
   "metadata": {},
   "source": [
    "You can retrieve the possible sensor variables available for the stations"
   ]
  },
  {
   "cell_type": "code",
   "execution_count": null,
   "metadata": {},
   "outputs": [],
   "source": [
    "# Calling variable_list() returns all possible sensor variables at stations\n",
    "variables = m.variables()\n",
    "#variables  # uncomment to print the resulting variables"
   ]
  },
  {
   "cell_type": "markdown",
   "metadata": {},
   "source": [
    "Climate observations are easy to obtain using the climatology_obs() function. "
   ]
  },
  {
   "cell_type": "code",
   "execution_count": null,
   "metadata": {},
   "outputs": [],
   "source": [
    "# This returns a climatology for Denver from Apr 26 OOz to Apr 27 OOz\n",
    "climate = m.climatology(stid='kden', startclim='04260000', endclim='04270000', units='precip|in')\n",
    "#climate  # uncomment to print climate observations"
   ]
  },
  {
   "cell_type": "markdown",
   "metadata": {},
   "source": [
    "The latest observations for a station or list of stations can be retrieved by either specifying an exact time or within a certain time range of the current time.\n"
   ]
  },
  {
   "cell_type": "code",
   "execution_count": null,
   "metadata": {},
   "outputs": [],
   "source": [
    "# Fetches the latest obs for Fort Collins airport within 30 min of Apr 26 18z\n",
    "attime = m.attime(stid='kfnl', attime='201504261800', within='30')\n",
    "#attime  # uncomment to print the latest obs"
   ]
  },
  {
   "cell_type": "markdown",
   "metadata": {},
   "source": [
    "Time series observations must include the start and end parameter."
   ]
  },
  {
   "cell_type": "code",
   "execution_count": null,
   "metadata": {},
   "outputs": [],
   "source": [
    "# Returns a time series from Fort Collins airport from Apr 26 18z to Apr 26 23z\n",
    "time = m.timeseries(stid='kfnl', start='201504261800', end='201504262300')\n",
    "#time  # uncomment to obtain a time series of observations"
   ]
  },
  {
   "cell_type": "markdown",
   "metadata": {},
   "source": [
    "Precipitation measurement observations can be retrieved specifically. "
   ]
  },
  {
   "cell_type": "code",
   "execution_count": null,
   "metadata": {},
   "outputs": [],
   "source": [
    "# Returns the precip obs from Fort Collins airport from Apr 26 18z to Apr 27 12z\n",
    "precip = m.precip(stid='kfnl', start='201504261800', end='201504271200', units='precip|in')\n",
    "#precip  # uncomment to get the precipitation obs"
   ]
  },
  {
   "cell_type": "markdown",
   "metadata": {},
   "source": [
    "Learn more about all of the networks in MesoWest with the networks() func."
   ]
  },
  {
   "cell_type": "code",
   "execution_count": null,
   "metadata": {},
   "outputs": [],
   "source": [
    "# Returns a dictionary of all networks in the MesoWest repository \n",
    "networks = m.networks()\n",
    "#networks # uncomment to get networks"
   ]
  },
  {
   "cell_type": "markdown",
   "metadata": {},
   "source": [
    "Or explore the categories MesoWest networks belong to."
   ]
  },
  {
   "cell_type": "code",
   "execution_count": null,
   "metadata": {},
   "outputs": [],
   "source": [
    "# Returns a dictionary of categories that networks may be assigned to\n",
    "nettypes = m.networktypes()\n",
    "#nettypes # uncomment to print network types"
   ]
  },
  {
   "cell_type": "markdown",
   "metadata": {},
   "source": [
    "You can obtain a time series of statistics for any station."
   ]
  },
  {
   "cell_type": "code",
   "execution_count": null,
   "metadata": {},
   "outputs": [],
   "source": [
    "# Returns stats for the mountain meteorology station at the University of Utah for the specified dates\n",
    "stats = m.time_stats(stid='mtmet', start='201403240000', end='201403280000', type='all')\n",
    "#stats # uncomment to see stats"
   ]
  },
  {
   "cell_type": "markdown",
   "metadata": {},
   "source": [
    "Or a climatology of statistics for any station."
   ]
  },
  {
   "cell_type": "code",
   "execution_count": null,
   "metadata": {},
   "outputs": [],
   "source": [
    "# Returns climatology stats for a station (remember to change the date format for climatology!)\n",
    "clim_stats = m.climate_stats(stid='mtmet', startclim='03240000', endclim='03280000', type='all')\n",
    "#clim_stats # uncomment to see climate stats"
   ]
  },
  {
   "cell_type": "markdown",
   "metadata": {},
   "source": [
    "Lastly, use the latency() function to see the latency of any station "
   ]
  },
  {
   "cell_type": "code",
   "execution_count": null,
   "metadata": {},
   "outputs": [],
   "source": [
    "# Returns a dictionary of latency values\n",
    "latency = m.latency(stid='mtmet', start='201403240000', end='201403280000')\n",
    "#latency # uncomment to see latency values"
   ]
  }
 ],
 "metadata": {
  "kernelspec": {
   "display_name": "Python 3",
   "language": "python",
   "name": "python3"
  },
  "language_info": {
   "codemirror_mode": {
    "name": "ipython",
    "version": 3.0
   },
   "file_extension": ".py",
   "mimetype": "text/x-python",
   "name": "python",
   "nbconvert_exporter": "python",
   "pygments_lexer": "ipython3",
   "version": "3.4.3"
  }
 },
 "nbformat": 4,
 "nbformat_minor": 0
}